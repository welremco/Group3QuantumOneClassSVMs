{
  "nbformat": 4,
  "nbformat_minor": 0,
  "metadata": {
    "colab": {
      "provenance": []
    },
    "kernelspec": {
      "name": "python3",
      "display_name": "Python 3"
    },
    "language_info": {
      "name": "python"
    }
  },
  "cells": [
    {
      "cell_type": "code",
      "execution_count": 2,
      "metadata": {
        "colab": {
          "base_uri": "https://localhost:8080/"
        },
        "id": "qgPfcgfb78eY",
        "outputId": "445d3f34-d6e8-4ce8-de08-b74e23001cd5"
      },
      "outputs": [
        {
          "output_type": "stream",
          "name": "stdout",
          "text": [
            "Looking in indexes: https://pypi.org/simple, https://us-python.pkg.dev/colab-wheels/public/simple/\n",
            "Collecting pennylane\n",
            "  Downloading PennyLane-0.28.0-py3-none-any.whl (1.3 MB)\n",
            "\u001b[2K     \u001b[90m━━━━━━━━━━━━━━━━━━━━━━━━━━━━━━━━━━━━━━━━\u001b[0m \u001b[32m1.3/1.3 MB\u001b[0m \u001b[31m23.9 MB/s\u001b[0m eta \u001b[36m0:00:00\u001b[0m\n",
            "\u001b[?25hCollecting semantic-version>=2.7\n",
            "  Downloading semantic_version-2.10.0-py2.py3-none-any.whl (15 kB)\n",
            "Requirement already satisfied: scipy in /usr/local/lib/python3.8/dist-packages (from pennylane) (1.7.3)\n",
            "Requirement already satisfied: cachetools in /usr/local/lib/python3.8/dist-packages (from pennylane) (5.2.0)\n",
            "Requirement already satisfied: numpy<1.24 in /usr/local/lib/python3.8/dist-packages (from pennylane) (1.21.6)\n",
            "Requirement already satisfied: autograd in /usr/local/lib/python3.8/dist-packages (from pennylane) (1.5)\n",
            "Requirement already satisfied: toml in /usr/local/lib/python3.8/dist-packages (from pennylane) (0.10.2)\n",
            "Collecting autoray>=0.3.1\n",
            "  Downloading autoray-0.5.3-py3-none-any.whl (39 kB)\n",
            "Requirement already satisfied: requests in /usr/local/lib/python3.8/dist-packages (from pennylane) (2.25.1)\n",
            "Collecting retworkx\n",
            "  Downloading retworkx-0.12.1-py3-none-any.whl (10 kB)\n",
            "Requirement already satisfied: networkx in /usr/local/lib/python3.8/dist-packages (from pennylane) (2.8.8)\n",
            "Collecting pennylane-lightning>=0.28\n",
            "  Downloading PennyLane_Lightning-0.28.1-cp38-cp38-manylinux_2_17_x86_64.manylinux2014_x86_64.whl (15.3 MB)\n",
            "\u001b[2K     \u001b[90m━━━━━━━━━━━━━━━━━━━━━━━━━━━━━━━━━━━━━━━━\u001b[0m \u001b[32m15.3/15.3 MB\u001b[0m \u001b[31m49.0 MB/s\u001b[0m eta \u001b[36m0:00:00\u001b[0m\n",
            "\u001b[?25hRequirement already satisfied: appdirs in /usr/local/lib/python3.8/dist-packages (from pennylane) (1.4.4)\n",
            "Collecting ninja\n",
            "  Downloading ninja-1.11.1-py2.py3-none-manylinux_2_12_x86_64.manylinux2010_x86_64.whl (145 kB)\n",
            "\u001b[2K     \u001b[90m━━━━━━━━━━━━━━━━━━━━━━━━━━━━━━━━━━━━━━\u001b[0m \u001b[32m146.0/146.0 KB\u001b[0m \u001b[31m15.6 MB/s\u001b[0m eta \u001b[36m0:00:00\u001b[0m\n",
            "\u001b[?25hRequirement already satisfied: future>=0.15.2 in /usr/local/lib/python3.8/dist-packages (from autograd->pennylane) (0.16.0)\n",
            "Requirement already satisfied: chardet<5,>=3.0.2 in /usr/local/lib/python3.8/dist-packages (from requests->pennylane) (4.0.0)\n",
            "Requirement already satisfied: idna<3,>=2.5 in /usr/local/lib/python3.8/dist-packages (from requests->pennylane) (2.10)\n",
            "Requirement already satisfied: certifi>=2017.4.17 in /usr/local/lib/python3.8/dist-packages (from requests->pennylane) (2022.12.7)\n",
            "Requirement already satisfied: urllib3<1.27,>=1.21.1 in /usr/local/lib/python3.8/dist-packages (from requests->pennylane) (1.24.3)\n",
            "Collecting rustworkx==0.12.1\n",
            "  Downloading rustworkx-0.12.1-cp38-cp38-manylinux_2_17_x86_64.manylinux2014_x86_64.whl (1.9 MB)\n",
            "\u001b[2K     \u001b[90m━━━━━━━━━━━━━━━━━━━━━━━━━━━━━━━━━━━━━━━━\u001b[0m \u001b[32m1.9/1.9 MB\u001b[0m \u001b[31m65.6 MB/s\u001b[0m eta \u001b[36m0:00:00\u001b[0m\n",
            "\u001b[?25hInstalling collected packages: ninja, semantic-version, rustworkx, autoray, retworkx, pennylane-lightning, pennylane\n",
            "Successfully installed autoray-0.5.3 ninja-1.11.1 pennylane-0.28.0 pennylane-lightning-0.28.1 retworkx-0.12.1 rustworkx-0.12.1 semantic-version-2.10.0\n"
          ]
        }
      ],
      "source": [
        "!pip install pennylane"
      ]
    },
    {
      "cell_type": "code",
      "source": [
        "import pennylane as qml\n",
        "from pennylane import numpy as np\n",
        "from pennylane.optimize import NesterovMomentumOptimizer"
      ],
      "metadata": {
        "id": "1I0KCwhE8Xqn"
      },
      "execution_count": 3,
      "outputs": []
    },
    {
      "cell_type": "code",
      "source": [
        "dev = qml.device(\"default.qubit\", wires=2)"
      ],
      "metadata": {
        "id": "wyNpgVi9tR8F"
      },
      "execution_count": 21,
      "outputs": []
    },
    {
      "cell_type": "code",
      "source": [
        "def get_angles(x):\n",
        "\n",
        "    beta0 = 2 * np.arcsin(np.sqrt(x[1] ** 2) / np.sqrt(x[0] ** 2 + x[1] ** 2 + 1e-12))\n",
        "    beta1 = 2 * np.arcsin(np.sqrt(x[3] ** 2) / np.sqrt(x[2] ** 2 + x[3] ** 2 + 1e-12))\n",
        "    beta2 = 2 * np.arcsin(\n",
        "        np.sqrt(x[2] ** 2 + x[3] ** 2)\n",
        "        / np.sqrt(x[0] ** 2 + x[1] ** 2 + x[2] ** 2 + x[3] ** 2)\n",
        "    )\n",
        "\n",
        "    return np.array([beta2, -beta1 / 2, beta1 / 2, -beta0 / 2, beta0 / 2])\n",
        "\n",
        "\n",
        "def statepreparation(a):\n",
        "    qml.RY(a[0], wires=0)\n",
        "\n",
        "    qml.CNOT(wires=[0, 1])\n",
        "    qml.RY(a[1], wires=1)\n",
        "    qml.CNOT(wires=[0, 1])\n",
        "    qml.RY(a[2], wires=1)\n",
        "\n",
        "    qml.PauliX(wires=0)\n",
        "    qml.CNOT(wires=[0, 1])\n",
        "    qml.RY(a[3], wires=1)\n",
        "    qml.CNOT(wires=[0, 1])\n",
        "    qml.RY(a[4], wires=1)\n",
        "    qml.PauliX(wires=0)"
      ],
      "metadata": {
        "id": "fx0fV6EQvu1P"
      },
      "execution_count": 24,
      "outputs": []
    },
    {
      "cell_type": "code",
      "source": [
        "def layer(W):\n",
        "    qml.Rot(W[0, 0], W[0, 1], W[0, 2], wires=0)\n",
        "    qml.Rot(W[1, 0], W[1, 1], W[1, 2], wires=1)\n",
        "    qml.CNOT(wires=[0, 1])"
      ],
      "metadata": {
        "id": "QFRJJarIoCW3"
      },
      "execution_count": 25,
      "outputs": []
    },
    {
      "cell_type": "code",
      "source": [
        "@qml.qnode(dev)\n",
        "def circuit(weights, angles):\n",
        "    statepreparation(angles)\n",
        "\n",
        "    for W in weights:\n",
        "        layer(W)\n",
        "\n",
        "    return qml.expval(qml.PauliZ(0))\n",
        "\n",
        "\n",
        "def variational_classifier(weights, bias, angles):\n",
        "    return circuit(weights, angles) + bias\n",
        "\n",
        "\n",
        "def cost(weights, bias, features, labels):\n",
        "    predictions = [variational_classifier(weights, bias, f) for f in features]\n",
        "    return square_loss(labels, predictions)\n"
      ],
      "metadata": {
        "id": "w7F2AurKs7KF"
      },
      "execution_count": 26,
      "outputs": []
    },
    {
      "cell_type": "code",
      "source": [
        "data = np.loadtxt(\"/content/sample_data/dataset1.csv\")\n",
        "X = data[:, 0:2]\n",
        "print(\"First X sample (original)  :\", X[0])\n",
        "\n",
        "# pad the vectors to size 2^2 with constant values\n",
        "padding = 0.3 * np.ones((len(X), 1))\n",
        "X_pad = np.c_[np.c_[X, padding], np.zeros((len(X), 1))]\n",
        "print(\"First X sample (padded)    :\", X_pad[0])\n",
        "\n",
        "# normalize each input\n",
        "normalization = np.sqrt(np.sum(X_pad ** 2, -1))\n",
        "X_norm = (X_pad.T / normalization).T\n",
        "print(\"First X sample (normalized):\", X_norm[0])\n",
        "\n",
        "# angles for state preparation are new features\n",
        "features = np.array([get_angles(x) for x in X_norm], requires_grad=False)\n",
        "print(\"First features sample      :\", features[0])\n",
        "\n",
        "Y = data[:, -1]"
      ],
      "metadata": {
        "colab": {
          "base_uri": "https://localhost:8080/"
        },
        "id": "rcfAH2VxPWrh",
        "outputId": "8cd9ea68-7e4c-47df-c70b-1f77e08232cd"
      },
      "execution_count": 31,
      "outputs": [
        {
          "output_type": "stream",
          "name": "stdout",
          "text": [
            "First X sample (original)  : [1.29547466 1.52111453]\n",
            "First X sample (padded)    : [1.29547466 1.52111453 0.3        0.        ]\n",
            "First X sample (normalized): [0.64119493 0.75287534 0.14848494 0.        ]\n",
            "First features sample      : [ 0.29807211 -0.          0.         -0.86533847  0.86533847]\n"
          ]
        }
      ]
    },
    {
      "cell_type": "code",
      "source": [
        "np.random.seed(0)\n",
        "num_data = len(Y)\n",
        "num_train = int(0.75 * num_data)\n",
        "index = np.random.permutation(range(num_data))\n",
        "feats_train = features[index[:num_train]]\n",
        "Y_train = Y[index[:num_train]]\n",
        "feats_val = features[index[num_train:]]\n",
        "Y_val = Y[index[num_train:]]\n",
        "\n",
        "# We need these later for plotting\n",
        "X_train = X[index[:num_train]]\n",
        "X_val = X[index[num_train:]]\n"
      ],
      "metadata": {
        "id": "RqipZn--RYpc"
      },
      "execution_count": 33,
      "outputs": []
    },
    {
      "cell_type": "code",
      "source": [
        "num_qubits = 2\n",
        "num_layers = 6\n",
        "\n",
        "weights_init = 0.01 * np.random.randn(num_layers, num_qubits, 3, requires_grad=True)\n",
        "bias_init = np.array(0.0, requires_grad=True)"
      ],
      "metadata": {
        "id": "4AOE6jtyRqdS"
      },
      "execution_count": 34,
      "outputs": []
    },
    {
      "cell_type": "code",
      "source": [
        "opt = NesterovMomentumOptimizer(0.01)\n",
        "batch_size = 5\n",
        "\n",
        "# train the variational classifier\n",
        "weights = weights_init\n",
        "bias = bias_init\n",
        "for it in range(60):\n",
        "\n",
        "    # Update the weights by one optimizer step\n",
        "    batch_index = np.random.randint(0, num_train, (batch_size,))\n",
        "    feats_train_batch = feats_train[batch_index]\n",
        "    Y_train_batch = Y_train[batch_index]\n",
        "    weights, bias, _, _ = opt.step(cost, weights, bias, feats_train_batch, Y_train_batch)\n",
        "\n",
        "    # Compute predictions on train and validation set\n",
        "    predictions_train = [np.sign(variational_classifier(weights, bias, f)) for f in feats_train]\n",
        "    predictions_val = [np.sign(variational_classifier(weights, bias, f)) for f in feats_val]\n",
        "\n",
        "    # Compute accuracy on train and validation set\n",
        "    acc_train = accuracy(Y_train, predictions_train)\n",
        "    acc_val = accuracy(Y_val, predictions_val)\n",
        "\n",
        "    print(\n",
        "        \"Iter: {:5d} | Cost: {:0.7f} | Acc train: {:0.7f} | Acc validation: {:0.7f} \"\n",
        "        \"\".format(it + 1, cost(weights, bias, features, Y), acc_train, acc_val)\n",
        "    )"
      ],
      "metadata": {
        "colab": {
          "base_uri": "https://localhost:8080/"
        },
        "id": "6pBMT7jFR0Hz",
        "outputId": "c95353b7-0c2f-44ff-f933-037e9884eec8"
      },
      "execution_count": 35,
      "outputs": [
        {
          "output_type": "stream",
          "name": "stdout",
          "text": [
            "Iter:     1 | Cost: 0.3570673 | Acc train: 0.9108280 | Acc validation: 0.8867925 \n",
            "Iter:     2 | Cost: 0.3577315 | Acc train: 0.9108280 | Acc validation: 0.8867925 \n",
            "Iter:     3 | Cost: 0.3586525 | Acc train: 0.9108280 | Acc validation: 0.8867925 \n",
            "Iter:     4 | Cost: 0.3565027 | Acc train: 0.9108280 | Acc validation: 0.8867925 \n",
            "Iter:     5 | Cost: 0.3520873 | Acc train: 0.9108280 | Acc validation: 0.8867925 \n",
            "Iter:     6 | Cost: 0.3462635 | Acc train: 0.9108280 | Acc validation: 0.8867925 \n",
            "Iter:     7 | Cost: 0.3425082 | Acc train: 0.9108280 | Acc validation: 0.8867925 \n",
            "Iter:     8 | Cost: 0.3402615 | Acc train: 0.9108280 | Acc validation: 0.8867925 \n",
            "Iter:     9 | Cost: 0.3391090 | Acc train: 0.9108280 | Acc validation: 0.8867925 \n",
            "Iter:    10 | Cost: 0.3387307 | Acc train: 0.9108280 | Acc validation: 0.8867925 \n",
            "Iter:    11 | Cost: 0.3389593 | Acc train: 0.9108280 | Acc validation: 0.8867925 \n",
            "Iter:    12 | Cost: 0.3397143 | Acc train: 0.9108280 | Acc validation: 0.8867925 \n",
            "Iter:    13 | Cost: 0.3410084 | Acc train: 0.9108280 | Acc validation: 0.8867925 \n",
            "Iter:    14 | Cost: 0.3407632 | Acc train: 0.9108280 | Acc validation: 0.8867925 \n",
            "Iter:    15 | Cost: 0.3411193 | Acc train: 0.9108280 | Acc validation: 0.8867925 \n",
            "Iter:    16 | Cost: 0.3399290 | Acc train: 0.9108280 | Acc validation: 0.8867925 \n",
            "Iter:    17 | Cost: 0.3377749 | Acc train: 0.9108280 | Acc validation: 0.8867925 \n",
            "Iter:    18 | Cost: 0.3356325 | Acc train: 0.9108280 | Acc validation: 0.8867925 \n",
            "Iter:    19 | Cost: 0.3345728 | Acc train: 0.9108280 | Acc validation: 0.8867925 \n",
            "Iter:    20 | Cost: 0.3348351 | Acc train: 0.9108280 | Acc validation: 0.8867925 \n",
            "Iter:    21 | Cost: 0.3380639 | Acc train: 0.9108280 | Acc validation: 0.8867925 \n",
            "Iter:    22 | Cost: 0.3456088 | Acc train: 0.9108280 | Acc validation: 0.8867925 \n",
            "Iter:    23 | Cost: 0.3511822 | Acc train: 0.9108280 | Acc validation: 0.8867925 \n",
            "Iter:    24 | Cost: 0.3518544 | Acc train: 0.9108280 | Acc validation: 0.8867925 \n",
            "Iter:    25 | Cost: 0.3481336 | Acc train: 0.9108280 | Acc validation: 0.8867925 \n",
            "Iter:    26 | Cost: 0.3462978 | Acc train: 0.9108280 | Acc validation: 0.8867925 \n",
            "Iter:    27 | Cost: 0.3458611 | Acc train: 0.9108280 | Acc validation: 0.8867925 \n",
            "Iter:    28 | Cost: 0.3466585 | Acc train: 0.9108280 | Acc validation: 0.8867925 \n",
            "Iter:    29 | Cost: 0.3439996 | Acc train: 0.9108280 | Acc validation: 0.8867925 \n",
            "Iter:    30 | Cost: 0.3397609 | Acc train: 0.9108280 | Acc validation: 0.8867925 \n",
            "Iter:    31 | Cost: 0.3358982 | Acc train: 0.9108280 | Acc validation: 0.8867925 \n",
            "Iter:    32 | Cost: 0.3338745 | Acc train: 0.9108280 | Acc validation: 0.8867925 \n",
            "Iter:    33 | Cost: 0.3338381 | Acc train: 0.9108280 | Acc validation: 0.8867925 \n",
            "Iter:    34 | Cost: 0.3341704 | Acc train: 0.9108280 | Acc validation: 0.8867925 \n",
            "Iter:    35 | Cost: 0.3337237 | Acc train: 0.9108280 | Acc validation: 0.8867925 \n",
            "Iter:    36 | Cost: 0.3335859 | Acc train: 0.9108280 | Acc validation: 0.8867925 \n",
            "Iter:    37 | Cost: 0.3335893 | Acc train: 0.9108280 | Acc validation: 0.8867925 \n",
            "Iter:    38 | Cost: 0.3334098 | Acc train: 0.9108280 | Acc validation: 0.8867925 \n",
            "Iter:    39 | Cost: 0.3332550 | Acc train: 0.9108280 | Acc validation: 0.8867925 \n",
            "Iter:    40 | Cost: 0.3335422 | Acc train: 0.9108280 | Acc validation: 0.8867925 \n",
            "Iter:    41 | Cost: 0.3337778 | Acc train: 0.9108280 | Acc validation: 0.8867925 \n",
            "Iter:    42 | Cost: 0.3335755 | Acc train: 0.9108280 | Acc validation: 0.8867925 \n",
            "Iter:    43 | Cost: 0.3330938 | Acc train: 0.9108280 | Acc validation: 0.8867925 \n",
            "Iter:    44 | Cost: 0.3327372 | Acc train: 0.9108280 | Acc validation: 0.8867925 \n",
            "Iter:    45 | Cost: 0.3326868 | Acc train: 0.9108280 | Acc validation: 0.8867925 \n",
            "Iter:    46 | Cost: 0.3328462 | Acc train: 0.9108280 | Acc validation: 0.8867925 \n",
            "Iter:    47 | Cost: 0.3334689 | Acc train: 0.9108280 | Acc validation: 0.8867925 \n",
            "Iter:    48 | Cost: 0.3338062 | Acc train: 0.9108280 | Acc validation: 0.8867925 \n",
            "Iter:    49 | Cost: 0.3345358 | Acc train: 0.9108280 | Acc validation: 0.8867925 \n",
            "Iter:    50 | Cost: 0.3357543 | Acc train: 0.9108280 | Acc validation: 0.8867925 \n",
            "Iter:    51 | Cost: 0.3360868 | Acc train: 0.9108280 | Acc validation: 0.8867925 \n",
            "Iter:    52 | Cost: 0.3368480 | Acc train: 0.9108280 | Acc validation: 0.8867925 \n",
            "Iter:    53 | Cost: 0.3380461 | Acc train: 0.9108280 | Acc validation: 0.8867925 \n",
            "Iter:    54 | Cost: 0.3396997 | Acc train: 0.9108280 | Acc validation: 0.8867925 \n",
            "Iter:    55 | Cost: 0.3399398 | Acc train: 0.9108280 | Acc validation: 0.8867925 \n",
            "Iter:    56 | Cost: 0.3406361 | Acc train: 0.9108280 | Acc validation: 0.8867925 \n",
            "Iter:    57 | Cost: 0.3398487 | Acc train: 0.9108280 | Acc validation: 0.8867925 \n",
            "Iter:    58 | Cost: 0.3379674 | Acc train: 0.9108280 | Acc validation: 0.8867925 \n",
            "Iter:    59 | Cost: 0.3369293 | Acc train: 0.9108280 | Acc validation: 0.8867925 \n",
            "Iter:    60 | Cost: 0.3351152 | Acc train: 0.9108280 | Acc validation: 0.8867925 \n"
          ]
        }
      ]
    },
    {
      "cell_type": "code",
      "source": [
        "import matplotlib.pyplot as plt\n",
        "plt.figure()\n",
        "cm = plt.cm.RdBu\n",
        "\n",
        "# make data for decision regions\n",
        "xx, yy = np.meshgrid(np.linspace(0.8, 1.8, 20), np.linspace(0.8, 2.0, 20))\n",
        "X_grid = [np.array([x, y]) for x, y in zip(xx.flatten(), yy.flatten())]\n",
        "\n",
        "# preprocess grid points like data inputs above\n",
        "padding = 0.3 * np.ones((len(X_grid), 1))\n",
        "X_grid = np.c_[np.c_[X_grid, padding], np.zeros((len(X_grid), 1))]  # pad each input\n",
        "normalization = np.sqrt(np.sum(X_grid ** 2, -1))\n",
        "X_grid = (X_grid.T / normalization).T  # normalize each input\n",
        "features_grid = np.array(\n",
        "    [get_angles(x) for x in X_grid]\n",
        ")  # angles for state preparation are new features\n",
        "predictions_grid = [variational_classifier(weights, bias, f) for f in features_grid]\n",
        "Z = np.reshape(predictions_grid, xx.shape)\n",
        "\n",
        "# plot decision regions\n",
        "cnt = plt.contourf(\n",
        "    xx, yy, Z, levels=np.arange(-1, 1.1, 0.1), cmap=cm, alpha=0.8, extend=\"both\"\n",
        ")\n",
        "plt.contour(\n",
        "    xx, yy, Z, levels=[0.0], colors=(\"black\",), linestyles=(\"--\",), linewidths=(0.8,)\n",
        ")\n",
        "plt.colorbar(cnt, ticks=[-1, 0, 1])\n",
        "\n",
        "# plot data\n",
        "plt.scatter(\n",
        "    X_train[:, 0][Y_train == 1],\n",
        "    X_train[:, 1][Y_train == 1],\n",
        "    c=\"b\",\n",
        "    marker=\"o\",\n",
        "    edgecolors=\"k\",\n",
        "    label=\"class 1 train\",\n",
        ")\n",
        "plt.scatter(\n",
        "    X_val[:, 0][Y_val == 1],\n",
        "    X_val[:, 1][Y_val == 1],\n",
        "    c=\"b\",\n",
        "    marker=\"^\",\n",
        "    edgecolors=\"k\",\n",
        "    label=\"class 1 validation\",\n",
        ")\n",
        "plt.scatter(\n",
        "    X_train[:, 0][Y_train == -1],\n",
        "    X_train[:, 1][Y_train == -1],\n",
        "    c=\"r\",\n",
        "    marker=\"o\",\n",
        "    edgecolors=\"k\",\n",
        "    label=\"class -1 train\",\n",
        ")\n",
        "plt.scatter(\n",
        "    X_val[:, 0][Y_val == -1],\n",
        "    X_val[:, 1][Y_val == -1],\n",
        "    c=\"r\",\n",
        "    marker=\"^\",\n",
        "    edgecolors=\"k\",\n",
        "    label=\"class -1 validation\",\n",
        ")\n",
        "\n",
        "plt.legend()\n",
        "plt.show()"
      ],
      "metadata": {
        "colab": {
          "base_uri": "https://localhost:8080/",
          "height": 304
        },
        "id": "VaXlK2fhbvg8",
        "outputId": "f9c7ade4-623e-42b9-a83c-27b77109a398"
      },
      "execution_count": 42,
      "outputs": [
        {
          "output_type": "stream",
          "name": "stderr",
          "text": [
            "<ipython-input-42-95de5be40975>:24: UserWarning: No contour levels were found within the data range.\n",
            "  plt.contour(\n"
          ]
        },
        {
          "output_type": "display_data",
          "data": {
            "text/plain": [
              "<Figure size 432x288 with 2 Axes>"
            ],
            "image/png": "[encoded data removed]"
          },
          "metadata": {
            "needs_background": "light"
          }
        }
      ]
    }
  ]
}